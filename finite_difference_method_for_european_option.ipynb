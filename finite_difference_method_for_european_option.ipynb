{
 "cells": [
  {
   "cell_type": "markdown",
   "id": "5fad99eb",
   "metadata": {},
   "source": [
    "# ***Finite Difference Method For European Option***\n",
    "\n",
    "Author: Youssef BOUZKRAOUI, Adel ADRAOUI"
   ]
  },
  {
   "cell_type": "code",
   "execution_count": 1,
   "id": "b0cf0a82",
   "metadata": {},
   "outputs": [],
   "source": [
    "import numpy as np\n",
    "import numpy.linalg as lng\n",
    "import matplotlib.pyplot as plt\n",
    "import time\n",
    "import sys\n",
    "import pandas as pd\n",
    "import scipy.stats as stats\n",
    "from scipy.stats import norm"
   ]
  },
  {
   "cell_type": "code",
   "execution_count": 2,
   "id": "18153ab0",
   "metadata": {},
   "outputs": [],
   "source": [
    "import warnings\n",
    "warnings.filterwarnings('ignore')"
   ]
  },
  {
   "cell_type": "code",
   "execution_count": 3,
   "id": "1a662714",
   "metadata": {},
   "outputs": [],
   "source": [
    "r = 0.1\n",
    "sigma = 0.2\n",
    "T = 1\n",
    "K = 100\n",
    "Smin , Smax = 0 , 200"
   ]
  },
  {
   "cell_type": "markdown",
   "id": "34eecd6a",
   "metadata": {},
   "source": [
    "## 1  The Euler Forward (or Explicit Euler) Scheme\n",
    "### Preliminaries"
   ]
  },
  {
   "cell_type": "code",
   "execution_count": 4,
   "id": "d8502dc1",
   "metadata": {},
   "outputs": [],
   "source": [
    "# Calculs communs entre les différents méthodes\n",
    "def simulation(N, I):    \n",
    "    results = {}  \n",
    "    \n",
    "    h = (Smax - Smin) / (I + 1)\n",
    "    s = Smin + h * np.arange(1, I + 1)\n",
    "    dt = T / N\n",
    "    alpha = ((sigma ** 2) / (2 * (h ** 2))) * (s**2)\n",
    "    beta = (r / (2 * h)) * s\n",
    "\n",
    "    def u0(s):\n",
    "        return max(K - s, 0)\n",
    "\n",
    "    def uleft(t):\n",
    "        return K * np.exp(-r * t) - Smin\n",
    "\n",
    "    def uright(t):\n",
    "        return 0\n",
    "\n",
    "    A = np.zeros((I, I))\n",
    "    A[I-1,I-1]= 2 * alpha[I-1] + r\n",
    "    for i in range(I - 1):\n",
    "        A[i][i] = 2 * alpha[i] + r\n",
    "        A[i + 1][i] = -alpha[i + 1] + beta[i + 1]\n",
    "        A[i][i + 1] = -alpha[i] - beta[i]\n",
    "\n",
    "    def q(t):\n",
    "        y = np.zeros((I, 1))\n",
    "        y[0] = (- alpha[0] + beta[0]) * uleft(t)\n",
    "        y[I - 1] = (- alpha[I - 1] - beta[I - 1]) * uright(t)\n",
    "        return y\n",
    "\n",
    "    phi_s = np.maximum(K - s, 0).reshape(I, 1)\n",
    "\n",
    "    results['s'] = s\n",
    "    results['h'] = h\n",
    "    results['dt'] = dt\n",
    "    results['A'] = A\n",
    "    results['q'] = q\n",
    "    results['phi_s'] = phi_s\n",
    "    results['alpha'] = alpha\n",
    "    results['beta'] = beta\n",
    "\n",
    "    return results"
   ]
  },
  {
   "cell_type": "markdown",
   "id": "ae7cb409",
   "metadata": {},
   "source": [
    "## 2   Programming Explicit Euler (EE)"
   ]
  },
  {
   "cell_type": "code",
   "execution_count": 5,
   "id": "323631de",
   "metadata": {},
   "outputs": [],
   "source": [
    "def EE_simulation(N, I, SCHEME='EE', afficher=True):\n",
    "    if afficher:\n",
    "        print('N=%3i' % N, 'I=%3i' % I, 'SCHEME=%s' % SCHEME)\n",
    "    simu = simulation(N, I) \n",
    "    phi_s = simu[\"phi_s\"]\n",
    "    dt = simu[\"dt\"]\n",
    "    A = simu[\"A\"]\n",
    "    q = simu[\"q\"]\n",
    "    U = phi_s\n",
    "    for n in range(N):\n",
    "        t = n * dt\n",
    "        U = U - dt * (A @ U + q(t))\n",
    "    return U"
   ]
  },
  {
   "cell_type": "code",
   "execution_count": 6,
   "id": "ca9dd5e4",
   "metadata": {},
   "outputs": [],
   "source": [
    "def plot_payoff_and_scheme(s, U, K):    \n",
    "    plt.figure(figsize=(8, 6))\n",
    "    plt.plot(s, phi_s, label='Payoff du Put')\n",
    "    plt.plot(s, U.flatten(), label='Schéma de différence finie')\n",
    "    plt.title('Comparaison Payoff et Schéma de différence finie pour un Put')\n",
    "    plt.xlabel('Prix de l\\'actif sous-jacent')\n",
    "    plt.ylabel('Valeur')\n",
    "    plt.legend()\n",
    "    plt.grid(True)\n",
    "    plt.show()"
   ]
  },
  {
   "cell_type": "code",
   "execution_count": 7,
   "id": "6c68bad6",
   "metadata": {},
   "outputs": [
    {
     "name": "stdout",
     "output_type": "stream",
     "text": [
      "N= 20 I= 20 SCHEME=EE\n"
     ]
    },
    {
     "data": {
      "image/png": "[encoded data removed]",
      "text/plain": [
       "<Figure size 576x432 with 1 Axes>"
      ]
     },
     "metadata": {
      "needs_background": "light"
     },
     "output_type": "display_data"
    }
   ],
   "source": [
    "s = simulation(20, 20)['s']\n",
    "U = EE_simulation(20, 20)\n",
    "phi_s = simulation(20, 20)['phi_s']\n",
    "plot_payoff_and_scheme(s, U, K)"
   ]
  },
  {
   "cell_type": "markdown",
   "id": "8d3e54e2",
   "metadata": {},
   "source": [
    "## 3    First Numerical Tests"
   ]
  },
  {
   "cell_type": "markdown",
   "id": "0036fd9a",
   "metadata": {},
   "source": [
    "### a/ Test the Euler Forward Scheme EE"
   ]
  },
  {
   "cell_type": "code",
   "execution_count": 8,
   "id": "979468d2",
   "metadata": {},
   "outputs": [],
   "source": [
    "def check_stability_and_positivity(U):\n",
    "    is_stable = np.linalg.norm(U, np.inf) < 1000 #### 1000 valeur prise au hasard\n",
    "    is_positive = np.all(U >= 0)\n",
    "    return is_stable, is_positive"
   ]
  },
  {
   "cell_type": "code",
   "execution_count": 9,
   "id": "02409ec5",
   "metadata": {},
   "outputs": [
    {
     "name": "stdout",
     "output_type": "stream",
     "text": [
      "For N=10, I=10: Stability - True, Positivity - True\n",
      "For N=10, I=20: Stability - True, Positivity - True\n",
      "For N=10, I=50: Stability - False, Positivity - False\n",
      "For N=10, I=100: Stability - False, Positivity - False\n"
     ]
    },
    {
     "data": {
      "image/png": "[encoded data removed]",
      "text/plain": [
       "<Figure size 1080x864 with 4 Axes>"
      ]
     },
     "metadata": {
      "needs_background": "light"
     },
     "output_type": "display_data"
    }
   ],
   "source": [
    "N = 10\n",
    "fig, axes = plt.subplots(nrows=2, ncols=2, figsize=(15, 12))  # Utiliser une grille 2x2\n",
    "axes = axes.flatten()  # Aplatir le tableau des axes pour un indexage facile\n",
    "\n",
    "for idx, I in enumerate([10, 20, 50, 100]):\n",
    "    U = EE_simulation(N, I, afficher=False)\n",
    "    is_stable, is_positive = check_stability_and_positivity(U)\n",
    "    print(f\"For N={N}, I={I}: Stability - {is_stable}, Positivity - {is_positive}\")\n",
    "    s = simulation(N, I)['s']\n",
    "    axes[idx].plot(s, U.flatten(), label=f'N={N}, I={I}')\n",
    "    axes[idx].set_title(f'Euler Forward Scheme for N={N}, I={I}')\n",
    "    axes[idx].set_xlabel('Stock Price')\n",
    "    axes[idx].set_ylabel('Option Value')\n",
    "    axes[idx].legend()\n",
    "    axes[idx].grid(True)\n",
    "\n",
    "plt.subplots_adjust(wspace=0.3, hspace=0.3)  # Ajuster l'espacement entre les graphiques\n",
    "plt.show()"
   ]
  },
  {
   "cell_type": "code",
   "execution_count": 10,
   "id": "3fe83c4a",
   "metadata": {},
   "outputs": [
    {
     "name": "stdout",
     "output_type": "stream",
     "text": [
      "For N=I=10: Stability - True, Positivity - True\n",
      "For N=I=20: Stability - True, Positivity - True\n",
      "For N=I=50: Stability - False, Positivity - False\n",
      "For N=I=100: Stability - False, Positivity - False\n"
     ]
    },
    {
     "data": {
      "image/png": "[encoded data removed]",
      "text/plain": [
       "<Figure size 1080x864 with 4 Axes>"
      ]
     },
     "metadata": {
      "needs_background": "light"
     },
     "output_type": "display_data"
    }
   ],
   "source": [
    "import matplotlib.pyplot as plt\n",
    "\n",
    "fig, axes = plt.subplots(nrows=2, ncols=2, figsize=(15, 12)) \n",
    "axes = axes.flatten()  \n",
    "\n",
    "for idx, N_I in enumerate([10, 20, 50, 100]):\n",
    "    U = EE_simulation(N_I, N_I, afficher=False)\n",
    "    is_stable, is_positive = check_stability_and_positivity(U)\n",
    "    print(f\"For N=I={N_I}: Stability - {is_stable}, Positivity - {is_positive}\")\n",
    "    s = simulation(N_I, N_I)['s']\n",
    "    axes[idx].plot(s, U.flatten(), label=f'N=I={N_I}')\n",
    "    axes[idx].set_title(f'Euler Forward Scheme for N=I={N_I}')\n",
    "    axes[idx].set_xlabel('Stock Price')\n",
    "    axes[idx].set_ylabel('Option Value')\n",
    "    axes[idx].legend()\n",
    "    axes[idx].grid(True)\n",
    "\n",
    "plt.subplots_adjust(wspace=0.3, hspace=0.3)  # Adjust the spacing between plots\n",
    "plt.show()"
   ]
  },
  {
   "cell_type": "markdown",
   "id": "46a317c1",
   "metadata": {},
   "source": [
    "#### With the help of the `check_stability_and_positivity` function, we can indeed verify that:\n",
    "#### The Scheme is not always numerically stable (in this example, the norm of U^n explode after I = 50)\n",
    "#### It doesn't always give a positive solution"
   ]
  },
  {
   "cell_type": "markdown",
   "id": "8a4e464f",
   "metadata": {},
   "source": [
    "### b/ Understanding the origin of the oscillations : \n",
    "\n",
    "\\begin{align} \n",
    "& B := I_d - \\Delta t A\n",
    "\\end{align}"
   ]
  },
  {
   "cell_type": "code",
   "execution_count": 11,
   "id": "cf11abcd",
   "metadata": {},
   "outputs": [],
   "source": [
    "def check_positivity_one_norms(U): ######## Positivity, Element greater than 1, Norms inf & 2\n",
    "    is_positive = np.all(U >= 0)\n",
    "    is_greater_one = not np.all(np.diag(np.abs(U)) < 1)  # We check if there a modulus  greater than 1 .\n",
    "    norm_inf , norm_2 = np.linalg.norm(U, np.inf) , np.linalg.norm(U, 2)\n",
    "    return is_positive, is_greater_one, norm_inf , norm_2"
   ]
  },
  {
   "cell_type": "code",
   "execution_count": 12,
   "id": "41b0b45a",
   "metadata": {},
   "outputs": [
    {
     "name": "stdout",
     "output_type": "stream",
     "text": [
      "N= 10 I= 50 SCHEME=EE\n",
      "For B : Positivity - False, Greater_One - True, Norm_inf : 67.218, Norm_2 : 49.89363480073947\n"
     ]
    }
   ],
   "source": [
    "N=10    \n",
    "I = 50  \n",
    "EE_simulation(N,I)\n",
    "sim10_50=simulation(N,I)\n",
    "dt = sim10_50[\"dt\"]\n",
    "A = sim10_50[\"A\"]\n",
    "B = np.ones((I,I)) - dt*A\n",
    "is_positive, is_greater_one, norm_inf , norm_2 = check_positivity_one_norms(B)\n",
    "print(f\"For B : Positivity - {is_positive}, Greater_One - {is_greater_one}, Norm_inf : {norm_inf}, Norm_2 : {norm_2}\")"
   ]
  },
  {
   "cell_type": "markdown",
   "id": "8be7d216",
   "metadata": {},
   "source": [
    "#### The coefficients of B are not all positive  and  they  have a modulus greater than 1 ( in particular at the diagonal elements).\n",
    "#### Both norms (infinity and 2) are greater than 1."
   ]
  },
  {
   "cell_type": "code",
   "execution_count": 13,
   "id": "5a740f79",
   "metadata": {},
   "outputs": [
    {
     "name": "stdout",
     "output_type": "stream",
     "text": [
      "N= 10 I= 10 SCHEME=EE\n",
      "For B : Positivity - True, Greater_One - False, Norm_inf : 9.993, Norm_2 : 9.965724446046933\n"
     ]
    }
   ],
   "source": [
    "N=10   \n",
    "I = 10   \n",
    "EE_simulation(N,I)\n",
    "sim10_10=simulation(N,I)\n",
    "dt = sim10_10[\"dt\"]\n",
    "A = sim10_10[\"A\"]\n",
    "B = np.ones((I,I)) - dt*A\n",
    "is_positive, is_greater_one, norm_inf , norm_2 = check_positivity_one_norms(B)\n",
    "print(f\"For B : Positivity - {is_positive}, Greater_One - {is_greater_one}, Norm_inf : {norm_inf}, Norm_2 : {norm_2}\")"
   ]
  },
  {
   "cell_type": "markdown",
   "id": "ac6f0d69",
   "metadata": {},
   "source": [
    "#### The coefficients of B are all positive, and smaller than 1 (The diagonal elements of B)"
   ]
  },
  {
   "cell_type": "markdown",
   "id": "cc7fc24e",
   "metadata": {},
   "source": [
    "### c/ CFL number :\n",
    "\\begin{align} \n",
    "& \\mu := \\frac{\\Delta t}{h^2} \\sigma^2 S_{max}^2\n",
    "\\end{align}"
   ]
  },
  {
   "cell_type": "code",
   "execution_count": 14,
   "id": "bc322f5d",
   "metadata": {},
   "outputs": [
    {
     "name": "stdout",
     "output_type": "stream",
     "text": [
      "CFL(10,10) :0.484    CFL(10,50) :10.404000000000003\n"
     ]
    }
   ],
   "source": [
    "CFL_10_10 = (sim10_10['dt']/(sim10_10['h']**2)) * (sigma**2) * (Smax**2) # (N,I) = (10,10)\n",
    "CFL_10_50 = (sim10_50['dt']/(sim10_50['h']**2)) * (sigma**2) * (Smax**2) # (N,I) = (10,50)\n",
    "print(\"CFL(10,10) :\" +str(CFL_10_10) +\"    \" +\"CFL(10,50) :\" +str(CFL_10_50))"
   ]
  },
  {
   "cell_type": "markdown",
   "id": "536aa536",
   "metadata": {},
   "source": [
    "#### When \\mu is sufficiently small there is no stability problem ((N,I) =(10,10) is stable)"
   ]
  },
  {
   "cell_type": "markdown",
   "id": "8be523f5",
   "metadata": {},
   "source": [
    "### d/ P1-interpolated value :\n",
    "\\begin{align} \n",
    "& U(\\hat{s}) \\approx \\frac{s_{i+1} - \\hat{s}}{h} U_i + \\frac{\\hat{s} - s_i}{h} U_{i+1}.\n",
    "& if ~~ \\hat{s} \\in [s_i , s_{i+1}]\n",
    "\\end{align}"
   ]
  },
  {
   "cell_type": "code",
   "execution_count": 15,
   "id": "1e31a92b",
   "metadata": {},
   "outputs": [],
   "source": [
    "def P1_interpolation(N, I, Sval, simulation_function, Method):\n",
    "    U = simulation_function(N, I,Method, afficher=False)\n",
    "    sim= simulation(N,I)\n",
    "    s = sim[\"s\"]\n",
    "    h = sim[\"h\"]\n",
    "    for k in range(len(s)-1):\n",
    "        if Sval >= s[k] and Sval <= s[k+1]:\n",
    "            return (((s[k+1] - Sval) / h) * U[k] + ((Sval - s[k]) / h) * U[k+1])[0]"
   ]
  },
  {
   "cell_type": "code",
   "execution_count": 16,
   "id": "5c194425",
   "metadata": {},
   "outputs": [
    {
     "data": {
      "text/plain": [
       "(7.558797100906322, 6274.262298912861)"
      ]
     },
     "execution_count": 16,
     "metadata": {},
     "output_type": "execute_result"
    }
   ],
   "source": [
    "## Sval = 90 ; (N,I) = (10,10) ; (N,I) = (10,50)\n",
    "P1_interpolation(10, 10, 90, EE_simulation,\"EE\"),P1_interpolation(10, 50, 90, EE_simulation,\"EE\") "
   ]
  },
  {
   "cell_type": "markdown",
   "id": "1dcde633",
   "metadata": {},
   "source": [
    "### e/ Numerical Order of the Scheme :"
   ]
  },
  {
   "cell_type": "markdown",
   "id": "9dfe21ca",
   "metadata": {},
   "source": [
    "##### Black & Scholes Formula for the put option program"
   ]
  },
  {
   "cell_type": "code",
   "execution_count": 17,
   "id": "c8c36ff9",
   "metadata": {},
   "outputs": [],
   "source": [
    "# Value given by the exact Black & Scholes Formula (used to compute the exact error errex)\n",
    "def black_scholes_put(S, K, T, r, sigma):\n",
    "    # Calcul de d+ et d-\n",
    "    d_plus = (np.log(S / K) + (r + 0.5 * sigma ** 2) * T) / (sigma * np.sqrt(T))\n",
    "    d_minus = d_plus - sigma * np.sqrt(T)\n",
    "    # Price\n",
    "    put_price = K * np.exp(-r * T) * norm.cdf(-d_minus) - S * norm.cdf(-d_plus)\n",
    "    return put_price"
   ]
  },
  {
   "cell_type": "markdown",
   "id": "1662988c",
   "metadata": {},
   "source": [
    "In order to estimate the error, we will  estimate the difference between two successive computations, say $ U^{(k-1)} ~~  and ~~  U^{(k)} $ (obtained with mesh $(I_{k-1}, N_{k-1})~~   and ~~  (I_k, N_k) $, resp.) :\n",
    "\\begin{align}\n",
    "& e_k := \\left| U^{(k-1)}(\\hat{s}) - U^{(k)}(\\hat{s}) \\right| ~~ ~~ (error)\n",
    "\\end{align}\n",
    "\n",
    "We also compare the value $ U^{(k)} $ with the Value given by the exact Black & Scholes Formula : \n",
    "\\begin{align}\n",
    "& e_{ex,k} := \\left| U^{(k)}(\\hat{s}) - v(t,\\hat{s}) \\right| ~~ ~~  (errex)\n",
    "\\end{align}\n",
    "\n",
    "If the error is $ e_k $ for a given parameters $ I = I_k $ and $ N = N_k $, we can estimate the order (at step $ k $) by the formula\n",
    "\\begin{align}\n",
    "\\alpha_k := \\frac{\\log(e_{k-1}/e_k)}{\\log(h_{k-1}/h_k)} \\approx \\alpha\n",
    "\\end{align}\n",
    "\n",
    "If $ h_k = h_{k-1}/2 $ as in the questions, then we get $ e_k/e_{k-1} \\approx 1/2^\\alpha $ and the previous formula gives\n",
    "\\begin{align}\n",
    "\\alpha_k = \\frac{\\log(e_{k-1}/e_k)}{\\log(2)}\n",
    "\\end{align}\n"
   ]
  },
  {
   "cell_type": "code",
   "execution_count": 18,
   "id": "31752e02",
   "metadata": {},
   "outputs": [],
   "source": [
    "def convergence_table(Sval, simulation_function, valeurs_I, valeurs_N, Method):\n",
    "    data = []\n",
    "    for I, N in zip(valeurs_I, valeurs_N):\n",
    "        start_time = time.time()\n",
    "        U_s = P1_interpolation(N, I, Sval, simulation_function, Method)\n",
    "        tcpu = time.time() - start_time\n",
    "        data.append([I, N, U_s, np.nan, np.nan, np.nan, tcpu])  \n",
    "\n",
    "    df = pd.DataFrame(data, columns=['I', 'N', 'U(s)', 'error', 'alpha', 'errex', 'tcpu'])\n",
    "\n",
    "    # Calcul de 'error'  'alpha'  et \"errex\"\n",
    "    df['error'] = np.abs((df['U(s)'] - df['U(s)'].shift(-1)).shift(1))\n",
    "    df['error'].iloc[0] = 0  # Fixer la première valeur à 0\n",
    "    df['alpha'] = np.log(np.abs(df['error'] / df['error'].shift(-1))) / np.log(2)\n",
    "    df['alpha'].iloc[0] = 0  # Fixer la première valeur à 0\n",
    "    df['errex'] = np.abs(df['U(s)'] - black_scholes_put(Sval, K, T, r, sigma))   \n",
    "    df['errex'].iloc[0] = 0 \n",
    "    df.dropna(subset=['U(s)'],inplace=True)\n",
    "    return df"
   ]
  },
  {
   "cell_type": "code",
   "execution_count": 19,
   "id": "cc17365d",
   "metadata": {},
   "outputs": [
    {
     "data": {
      "text/html": [
       "<div>\n",
       "<style scoped>\n",
       "    .dataframe tbody tr th:only-of-type {\n",
       "        vertical-align: middle;\n",
       "    }\n",
       "\n",
       "    .dataframe tbody tr th {\n",
       "        vertical-align: top;\n",
       "    }\n",
       "\n",
       "    .dataframe thead th {\n",
       "        text-align: right;\n",
       "    }\n",
       "</style>\n",
       "<table border=\"1\" class=\"dataframe\">\n",
       "  <thead>\n",
       "    <tr style=\"text-align: right;\">\n",
       "      <th></th>\n",
       "      <th>I</th>\n",
       "      <th>N</th>\n",
       "      <th>U(s)</th>\n",
       "      <th>error</th>\n",
       "      <th>alpha</th>\n",
       "      <th>errex</th>\n",
       "      <th>tcpu</th>\n",
       "    </tr>\n",
       "  </thead>\n",
       "  <tbody>\n",
       "    <tr>\n",
       "      <th>0</th>\n",
       "      <td>10</td>\n",
       "      <td>10</td>\n",
       "      <td>1.425509e+01</td>\n",
       "      <td>0.000000e+00</td>\n",
       "      <td>0.000000</td>\n",
       "      <td>0.000000e+00</td>\n",
       "      <td>0.001000</td>\n",
       "    </tr>\n",
       "    <tr>\n",
       "      <th>1</th>\n",
       "      <td>20</td>\n",
       "      <td>20</td>\n",
       "      <td>1.351532e+01</td>\n",
       "      <td>7.397757e-01</td>\n",
       "      <td>1.923707</td>\n",
       "      <td>2.416537e-01</td>\n",
       "      <td>0.000000</td>\n",
       "    </tr>\n",
       "    <tr>\n",
       "      <th>2</th>\n",
       "      <td>40</td>\n",
       "      <td>40</td>\n",
       "      <td>1.332033e+01</td>\n",
       "      <td>1.949874e-01</td>\n",
       "      <td>-15.734138</td>\n",
       "      <td>4.666637e-02</td>\n",
       "      <td>0.001001</td>\n",
       "    </tr>\n",
       "    <tr>\n",
       "      <th>3</th>\n",
       "      <td>80</td>\n",
       "      <td>80</td>\n",
       "      <td>-1.061474e+04</td>\n",
       "      <td>1.062806e+04</td>\n",
       "      <td>-218.859178</td>\n",
       "      <td>1.062801e+04</td>\n",
       "      <td>0.001081</td>\n",
       "    </tr>\n",
       "    <tr>\n",
       "      <th>4</th>\n",
       "      <td>160</td>\n",
       "      <td>160</td>\n",
       "      <td>-8.121408e+69</td>\n",
       "      <td>8.121408e+69</td>\n",
       "      <td>NaN</td>\n",
       "      <td>8.121408e+69</td>\n",
       "      <td>0.004380</td>\n",
       "    </tr>\n",
       "  </tbody>\n",
       "</table>\n",
       "</div>"
      ],
      "text/plain": [
       "     I    N          U(s)         error       alpha         errex      tcpu\n",
       "0   10   10  1.425509e+01  0.000000e+00    0.000000  0.000000e+00  0.001000\n",
       "1   20   20  1.351532e+01  7.397757e-01    1.923707  2.416537e-01  0.000000\n",
       "2   40   40  1.332033e+01  1.949874e-01  -15.734138  4.666637e-02  0.001001\n",
       "3   80   80 -1.061474e+04  1.062806e+04 -218.859178  1.062801e+04  0.001081\n",
       "4  160  160 -8.121408e+69  8.121408e+69         NaN  8.121408e+69  0.004380"
      ]
     },
     "execution_count": 19,
     "metadata": {},
     "output_type": "execute_result"
    }
   ],
   "source": [
    "Sval = 80\n",
    "valeurs_I = [10, 20, 40,80,160,320]\n",
    "valeurs_N =  valeurs_I\n",
    "convergence_table(Sval,EE_simulation,valeurs_I,valeurs_N,\"EE\")"
   ]
  },
  {
   "cell_type": "code",
   "execution_count": 20,
   "id": "9335b1ce",
   "metadata": {},
   "outputs": [
    {
     "data": {
      "text/html": [
       "<div>\n",
       "<style scoped>\n",
       "    .dataframe tbody tr th:only-of-type {\n",
       "        vertical-align: middle;\n",
       "    }\n",
       "\n",
       "    .dataframe tbody tr th {\n",
       "        vertical-align: top;\n",
       "    }\n",
       "\n",
       "    .dataframe thead th {\n",
       "        text-align: right;\n",
       "    }\n",
       "</style>\n",
       "<table border=\"1\" class=\"dataframe\">\n",
       "  <thead>\n",
       "    <tr style=\"text-align: right;\">\n",
       "      <th></th>\n",
       "      <th>I</th>\n",
       "      <th>N</th>\n",
       "      <th>U(s)</th>\n",
       "      <th>error</th>\n",
       "      <th>alpha</th>\n",
       "      <th>errex</th>\n",
       "      <th>tcpu</th>\n",
       "    </tr>\n",
       "  </thead>\n",
       "  <tbody>\n",
       "    <tr>\n",
       "      <th>0</th>\n",
       "      <td>10</td>\n",
       "      <td>10</td>\n",
       "      <td>14.255092</td>\n",
       "      <td>0.000000</td>\n",
       "      <td>0.000000</td>\n",
       "      <td>0.000000</td>\n",
       "      <td>0.001002</td>\n",
       "    </tr>\n",
       "    <tr>\n",
       "      <th>1</th>\n",
       "      <td>20</td>\n",
       "      <td>40</td>\n",
       "      <td>13.547634</td>\n",
       "      <td>0.707459</td>\n",
       "      <td>1.804525</td>\n",
       "      <td>0.273971</td>\n",
       "      <td>0.000000</td>\n",
       "    </tr>\n",
       "    <tr>\n",
       "      <th>2</th>\n",
       "      <td>40</td>\n",
       "      <td>160</td>\n",
       "      <td>13.345106</td>\n",
       "      <td>0.202528</td>\n",
       "      <td>1.929295</td>\n",
       "      <td>0.071443</td>\n",
       "      <td>0.002000</td>\n",
       "    </tr>\n",
       "    <tr>\n",
       "      <th>3</th>\n",
       "      <td>80</td>\n",
       "      <td>640</td>\n",
       "      <td>13.291930</td>\n",
       "      <td>0.053175</td>\n",
       "      <td>1.962253</td>\n",
       "      <td>0.018267</td>\n",
       "      <td>0.004001</td>\n",
       "    </tr>\n",
       "    <tr>\n",
       "      <th>4</th>\n",
       "      <td>160</td>\n",
       "      <td>2560</td>\n",
       "      <td>13.278284</td>\n",
       "      <td>0.013646</td>\n",
       "      <td>1.980109</td>\n",
       "      <td>0.004621</td>\n",
       "      <td>0.040212</td>\n",
       "    </tr>\n",
       "  </tbody>\n",
       "</table>\n",
       "</div>"
      ],
      "text/plain": [
       "     I     N       U(s)     error     alpha     errex      tcpu\n",
       "0   10    10  14.255092  0.000000  0.000000  0.000000  0.001002\n",
       "1   20    40  13.547634  0.707459  1.804525  0.273971  0.000000\n",
       "2   40   160  13.345106  0.202528  1.929295  0.071443  0.002000\n",
       "3   80   640  13.291930  0.053175  1.962253  0.018267  0.004001\n",
       "4  160  2560  13.278284  0.013646  1.980109  0.004621  0.040212"
      ]
     },
     "execution_count": 20,
     "metadata": {},
     "output_type": "execute_result"
    }
   ],
   "source": [
    "valeurs_N = [int((x**2)/10) for x in valeurs_I]\n",
    "convergence_table(Sval,EE_simulation,valeurs_I,valeurs_N,\"EE\")[:5]"
   ]
  },
  {
   "cell_type": "markdown",
   "id": "3cfbcbae",
   "metadata": {},
   "source": [
    "## 4   Implicit Euler Scheme (IE)"
   ]
  },
  {
   "cell_type": "markdown",
   "id": "f6b2b1b8",
   "metadata": {},
   "source": [
    "The scheme can be written in the vector form as : \n",
    "\\begin{align} \n",
    "& \\frac{U^{n+1} - U^n}{\\Delta t} + AU^{n+1} + q(t_{n+1}) = 0, & n = 0  , \\ldots, N-1 \\\\\n",
    "&  with : U^0 = (\\phi(s_i))_{1 \\leq i \\leq I})\n",
    "\\end{align}\n",
    "\n",
    "So, after all calculations are done, we obtain: : \n",
    "\\begin{align} \n",
    "& (I_I + \\Delta t A)U^{n+1} = U^{n}  - \\Delta t . q(t_{n+1}) , & n = 0  , \\ldots, N-1 \\\\\n",
    "&  with : U^0 = (\\phi(s_i))_{1 \\leq i \\leq I}) ~~ ; ~~ q(t_{n+1}) = q(t_{n} + \\Delta t)\n",
    "\\end{align}"
   ]
  },
  {
   "cell_type": "code",
   "execution_count": 21,
   "id": "ffd05567",
   "metadata": {},
   "outputs": [],
   "source": [
    "def IE_simulation(N, I, SCHEME='IE', afficher=True):\n",
    "    if afficher:\n",
    "        print('N=%3i' % N, 'I=%3i' % I, 'SCHEME=%s' % SCHEME)\n",
    "    simu = simulation(N, I)\n",
    "    phi_s = simu[\"phi_s\"]\n",
    "    dt = simu[\"dt\"]\n",
    "    A = simu[\"A\"]\n",
    "    q = simu[\"q\"]\n",
    "    U = phi_s\n",
    "    for n in range(N):\n",
    "        t = n * dt\n",
    "        U = lng.solve(np.eye(I) + dt * A , U - dt * q(t + dt)).reshape(-1,1)\n",
    "    return U"
   ]
  },
  {
   "cell_type": "code",
   "execution_count": 22,
   "id": "c5f569f1",
   "metadata": {},
   "outputs": [
    {
     "name": "stdout",
     "output_type": "stream",
     "text": [
      "N= 10 I= 50 SCHEME=IE\n"
     ]
    },
    {
     "data": {
      "image/png": "[encoded data removed]",
      "text/plain": [
       "<Figure size 576x432 with 1 Axes>"
      ]
     },
     "metadata": {
      "needs_background": "light"
     },
     "output_type": "display_data"
    }
   ],
   "source": [
    "s = simulation(10, 50)['s']\n",
    "U = IE_simulation(10, 50)\n",
    "phi_s = simulation(10, 50)['phi_s']\n",
    "plot_payoff_and_scheme(s, U, K)"
   ]
  },
  {
   "cell_type": "code",
   "execution_count": 23,
   "id": "75013ae9",
   "metadata": {},
   "outputs": [
    {
     "name": "stdout",
     "output_type": "stream",
     "text": [
      "For N=10 & I=10: Stability - True, Positivity - True\n",
      "For N=10 & I=20: Stability - True, Positivity - True\n",
      "For N=10 & I=50: Stability - True, Positivity - True\n",
      "For N=10 & I=100: Stability - True, Positivity - True\n"
     ]
    },
    {
     "data": {
      "image/png": "[encoded data removed]",
      "text/plain": [
       "<Figure size 432x288 with 1 Axes>"
      ]
     },
     "metadata": {
      "needs_background": "light"
     },
     "output_type": "display_data"
    }
   ],
   "source": [
    "N = 10\n",
    "for I in [10, 20, 50, 100]:\n",
    "    U = IE_simulation(N, I,afficher =False)\n",
    "    is_stable, is_positive = check_stability_and_positivity(U)\n",
    "    print(f\"For N=10 & I={I}: Stability - {is_stable}, Positivity - {is_positive}\")\n",
    "    s = simulation(N, I)['s']\n",
    "    plt.plot(s, U.flatten(), label=f'N=10 & I={I}')\n",
    "plt.title('Implicit Euler Scheme for N=I')\n",
    "plt.xlabel('Stock Price')\n",
    "plt.ylabel('Option Value')\n",
    "plt.legend()\n",
    "plt.grid(True)\n",
    "plt.show()"
   ]
  },
  {
   "cell_type": "markdown",
   "id": "a92aa0ec",
   "metadata": {},
   "source": [
    "### a/ There is no more stability problems with the IE Scheme"
   ]
  },
  {
   "cell_type": "markdown",
   "id": "ac1f6574",
   "metadata": {},
   "source": [
    "### b/ The corresponding tables with N = I and with N = I/10"
   ]
  },
  {
   "cell_type": "code",
   "execution_count": 24,
   "id": "e52a0559",
   "metadata": {},
   "outputs": [
    {
     "data": {
      "text/html": [
       "<div>\n",
       "<style scoped>\n",
       "    .dataframe tbody tr th:only-of-type {\n",
       "        vertical-align: middle;\n",
       "    }\n",
       "\n",
       "    .dataframe tbody tr th {\n",
       "        vertical-align: top;\n",
       "    }\n",
       "\n",
       "    .dataframe thead th {\n",
       "        text-align: right;\n",
       "    }\n",
       "</style>\n",
       "<table border=\"1\" class=\"dataframe\">\n",
       "  <thead>\n",
       "    <tr style=\"text-align: right;\">\n",
       "      <th></th>\n",
       "      <th>I</th>\n",
       "      <th>N</th>\n",
       "      <th>U(s)</th>\n",
       "      <th>error</th>\n",
       "      <th>alpha</th>\n",
       "      <th>errex</th>\n",
       "      <th>tcpu</th>\n",
       "    </tr>\n",
       "  </thead>\n",
       "  <tbody>\n",
       "    <tr>\n",
       "      <th>0</th>\n",
       "      <td>10</td>\n",
       "      <td>10</td>\n",
       "      <td>14.448406</td>\n",
       "      <td>0.000000</td>\n",
       "      <td>0.000000</td>\n",
       "      <td>0.000000</td>\n",
       "      <td>0.001000</td>\n",
       "    </tr>\n",
       "    <tr>\n",
       "      <th>1</th>\n",
       "      <td>20</td>\n",
       "      <td>20</td>\n",
       "      <td>13.642159</td>\n",
       "      <td>0.806247</td>\n",
       "      <td>1.654996</td>\n",
       "      <td>0.368496</td>\n",
       "      <td>0.001000</td>\n",
       "    </tr>\n",
       "    <tr>\n",
       "      <th>2</th>\n",
       "      <td>40</td>\n",
       "      <td>40</td>\n",
       "      <td>13.386145</td>\n",
       "      <td>0.256015</td>\n",
       "      <td>1.758961</td>\n",
       "      <td>0.112482</td>\n",
       "      <td>0.001998</td>\n",
       "    </tr>\n",
       "    <tr>\n",
       "      <th>3</th>\n",
       "      <td>80</td>\n",
       "      <td>80</td>\n",
       "      <td>13.310502</td>\n",
       "      <td>0.075642</td>\n",
       "      <td>1.690466</td>\n",
       "      <td>0.036839</td>\n",
       "      <td>0.005000</td>\n",
       "    </tr>\n",
       "    <tr>\n",
       "      <th>4</th>\n",
       "      <td>160</td>\n",
       "      <td>160</td>\n",
       "      <td>13.287066</td>\n",
       "      <td>0.023436</td>\n",
       "      <td>1.554777</td>\n",
       "      <td>0.013403</td>\n",
       "      <td>0.034299</td>\n",
       "    </tr>\n",
       "    <tr>\n",
       "      <th>5</th>\n",
       "      <td>320</td>\n",
       "      <td>320</td>\n",
       "      <td>13.279089</td>\n",
       "      <td>0.007977</td>\n",
       "      <td>NaN</td>\n",
       "      <td>0.005426</td>\n",
       "      <td>0.379805</td>\n",
       "    </tr>\n",
       "  </tbody>\n",
       "</table>\n",
       "</div>"
      ],
      "text/plain": [
       "     I    N       U(s)     error     alpha     errex      tcpu\n",
       "0   10   10  14.448406  0.000000  0.000000  0.000000  0.001000\n",
       "1   20   20  13.642159  0.806247  1.654996  0.368496  0.001000\n",
       "2   40   40  13.386145  0.256015  1.758961  0.112482  0.001998\n",
       "3   80   80  13.310502  0.075642  1.690466  0.036839  0.005000\n",
       "4  160  160  13.287066  0.023436  1.554777  0.013403  0.034299\n",
       "5  320  320  13.279089  0.007977       NaN  0.005426  0.379805"
      ]
     },
     "execution_count": 24,
     "metadata": {},
     "output_type": "execute_result"
    }
   ],
   "source": [
    "########   N = I\n",
    "Sval = 80\n",
    "valeurs_I = [10, 20, 40,80,160,320]\n",
    "valeurs_N =  valeurs_I\n",
    "convergence_table(Sval,IE_simulation,valeurs_I,valeurs_N,\"IE\")"
   ]
  },
  {
   "cell_type": "code",
   "execution_count": 25,
   "id": "9e1e8ae6",
   "metadata": {},
   "outputs": [
    {
     "data": {
      "text/html": [
       "<div>\n",
       "<style scoped>\n",
       "    .dataframe tbody tr th:only-of-type {\n",
       "        vertical-align: middle;\n",
       "    }\n",
       "\n",
       "    .dataframe tbody tr th {\n",
       "        vertical-align: top;\n",
       "    }\n",
       "\n",
       "    .dataframe thead th {\n",
       "        text-align: right;\n",
       "    }\n",
       "</style>\n",
       "<table border=\"1\" class=\"dataframe\">\n",
       "  <thead>\n",
       "    <tr style=\"text-align: right;\">\n",
       "      <th></th>\n",
       "      <th>I</th>\n",
       "      <th>N</th>\n",
       "      <th>U(s)</th>\n",
       "      <th>error</th>\n",
       "      <th>alpha</th>\n",
       "      <th>errex</th>\n",
       "      <th>tcpu</th>\n",
       "    </tr>\n",
       "  </thead>\n",
       "  <tbody>\n",
       "    <tr>\n",
       "      <th>0</th>\n",
       "      <td>10</td>\n",
       "      <td>1</td>\n",
       "      <td>15.115616</td>\n",
       "      <td>0.000000</td>\n",
       "      <td>0.000000</td>\n",
       "      <td>0.000000</td>\n",
       "      <td>0.000000</td>\n",
       "    </tr>\n",
       "    <tr>\n",
       "      <th>1</th>\n",
       "      <td>20</td>\n",
       "      <td>2</td>\n",
       "      <td>14.135687</td>\n",
       "      <td>0.979929</td>\n",
       "      <td>1.066590</td>\n",
       "      <td>0.862024</td>\n",
       "      <td>0.000999</td>\n",
       "    </tr>\n",
       "    <tr>\n",
       "      <th>2</th>\n",
       "      <td>40</td>\n",
       "      <td>4</td>\n",
       "      <td>13.667824</td>\n",
       "      <td>0.467863</td>\n",
       "      <td>1.147946</td>\n",
       "      <td>0.394161</td>\n",
       "      <td>0.001360</td>\n",
       "    </tr>\n",
       "    <tr>\n",
       "      <th>3</th>\n",
       "      <td>80</td>\n",
       "      <td>8</td>\n",
       "      <td>13.456693</td>\n",
       "      <td>0.211131</td>\n",
       "      <td>1.141429</td>\n",
       "      <td>0.183030</td>\n",
       "      <td>0.001599</td>\n",
       "    </tr>\n",
       "    <tr>\n",
       "      <th>4</th>\n",
       "      <td>160</td>\n",
       "      <td>16</td>\n",
       "      <td>13.360985</td>\n",
       "      <td>0.095708</td>\n",
       "      <td>1.095529</td>\n",
       "      <td>0.087322</td>\n",
       "      <td>0.004054</td>\n",
       "    </tr>\n",
       "  </tbody>\n",
       "</table>\n",
       "</div>"
      ],
      "text/plain": [
       "     I   N       U(s)     error     alpha     errex      tcpu\n",
       "0   10   1  15.115616  0.000000  0.000000  0.000000  0.000000\n",
       "1   20   2  14.135687  0.979929  1.066590  0.862024  0.000999\n",
       "2   40   4  13.667824  0.467863  1.147946  0.394161  0.001360\n",
       "3   80   8  13.456693  0.211131  1.141429  0.183030  0.001599\n",
       "4  160  16  13.360985  0.095708  1.095529  0.087322  0.004054"
      ]
     },
     "execution_count": 25,
     "metadata": {},
     "output_type": "execute_result"
    }
   ],
   "source": [
    "######  N = I / 10\n",
    "valeurs_N = [int(x/10) for x in valeurs_I]\n",
    "convergence_table(Sval,IE_simulation,valeurs_I,valeurs_N,\"IE\")[:5]"
   ]
  },
  {
   "cell_type": "markdown",
   "id": "66fec7d4",
   "metadata": {},
   "source": [
    "## 5  Crank-Nicolson Scheme (CN)"
   ]
  },
  {
   "cell_type": "markdown",
   "id": "70092775",
   "metadata": {},
   "source": [
    "### a/ The CN scheme in vector form and CN program"
   ]
  },
  {
   "cell_type": "markdown",
   "id": "fdeaf13f",
   "metadata": {},
   "source": [
    "The scheme can be written in the vector form as : \n",
    "\\begin{align} \n",
    "& \\frac{U^{n+1} - U^n}{\\Delta t} + \\frac{1}{2}A(U^{n+1}+U^n) + \\frac{1}{2}(q(t_{n+1}+q(t_{n})) = 0, & n = 0  , \\ldots, N-1 \\\\\n",
    "&  with : U^0 = (\\phi(s_i))_{1 \\leq i \\leq I})\n",
    "\\end{align}\n",
    "\n",
    "So, after all calculations are done, we obtain: : \n",
    "\\begin{align} \n",
    "& (I_I + \\frac{\\Delta t}{2} A)U^{n+1} = U^{n}  - \\frac{\\Delta t}{2} . (AU^{n}+q(t_{n})+q(t_{n+1})) , & n = 0  , \\ldots, N-1 \\\\\n",
    "&  with : U^0 = (\\phi(s_i))_{1 \\leq i \\leq I})  ~~ ; ~~ q(t_{n+1}) = q(t_{n} + \\Delta t)\n",
    "\\end{align}"
   ]
  },
  {
   "cell_type": "code",
   "execution_count": 26,
   "id": "cf05cec8",
   "metadata": {},
   "outputs": [],
   "source": [
    "def CN_simulation(N, I, SCHEME='CN', afficher=True):\n",
    "    if afficher:\n",
    "        print('N=%3i' % N, 'I=%3i' % I, 'SCHEME=%s' % SCHEME)\n",
    "    simu = simulation(N, I)\n",
    "    phi_s = simu[\"phi_s\"]\n",
    "    dt = simu[\"dt\"]\n",
    "    A = simu[\"A\"]\n",
    "    q = simu[\"q\"]\n",
    "    U = phi_s\n",
    "    for n in range(N):\n",
    "        t = n * dt\n",
    "        U = lng.solve(np.eye(I) + (dt/2) * A , U - (dt/2) * ( A@U + q(t) + q(t+dt))).reshape(-1,1)\n",
    "    return U"
   ]
  },
  {
   "cell_type": "code",
   "execution_count": 27,
   "id": "9b9b0bab",
   "metadata": {},
   "outputs": [
    {
     "name": "stdout",
     "output_type": "stream",
     "text": [
      "N= 10 I= 50 SCHEME=CN\n"
     ]
    },
    {
     "data": {
      "image/png": "[encoded data removed]",
      "text/plain": [
       "<Figure size 576x432 with 1 Axes>"
      ]
     },
     "metadata": {
      "needs_background": "light"
     },
     "output_type": "display_data"
    }
   ],
   "source": [
    "s = simulation(10, 50)['s']\n",
    "U = CN_simulation(10, 50)\n",
    "phi_s = simulation(10, 50)['phi_s']\n",
    "plot_payoff_and_scheme(s, U, K)"
   ]
  },
  {
   "cell_type": "code",
   "execution_count": 28,
   "id": "90b3de25",
   "metadata": {},
   "outputs": [
    {
     "name": "stdout",
     "output_type": "stream",
     "text": [
      "For N=10 & I=10: Stability - True, Positivity - True\n",
      "For N=10 & I=20: Stability - True, Positivity - True\n",
      "For N=10 & I=50: Stability - True, Positivity - True\n",
      "For N=10 & I=100: Stability - True, Positivity - True\n"
     ]
    },
    {
     "data": {
      "image/png": "[encoded data removed]",
      "text/plain": [
       "<Figure size 432x288 with 1 Axes>"
      ]
     },
     "metadata": {
      "needs_background": "light"
     },
     "output_type": "display_data"
    }
   ],
   "source": [
    "N = 10\n",
    "for I in [10, 20, 50, 100]:\n",
    "    U = CN_simulation(N, I,afficher =False)\n",
    "    is_stable, is_positive = check_stability_and_positivity(U)\n",
    "    print(f\"For N=10 & I={I}: Stability - {is_stable}, Positivity - {is_positive}\")\n",
    "    s = simulation(N, I)['s']\n",
    "    plt.plot(s, U.flatten(), label=f'N=10 & I={I}')\n",
    "plt.title('Crank-Nicolson Scheme for N=I')\n",
    "plt.xlabel('Stock Price')\n",
    "plt.ylabel('Option Value')\n",
    "plt.legend()\n",
    "plt.grid(True)\n",
    "plt.show()"
   ]
  },
  {
   "cell_type": "markdown",
   "id": "4e3adbfb",
   "metadata": {},
   "source": [
    "### b/ The corresponding tables with N = I and with N = I/10"
   ]
  },
  {
   "cell_type": "code",
   "execution_count": 29,
   "id": "9dc325b5",
   "metadata": {},
   "outputs": [
    {
     "data": {
      "text/html": [
       "<div>\n",
       "<style scoped>\n",
       "    .dataframe tbody tr th:only-of-type {\n",
       "        vertical-align: middle;\n",
       "    }\n",
       "\n",
       "    .dataframe tbody tr th {\n",
       "        vertical-align: top;\n",
       "    }\n",
       "\n",
       "    .dataframe thead th {\n",
       "        text-align: right;\n",
       "    }\n",
       "</style>\n",
       "<table border=\"1\" class=\"dataframe\">\n",
       "  <thead>\n",
       "    <tr style=\"text-align: right;\">\n",
       "      <th></th>\n",
       "      <th>I</th>\n",
       "      <th>N</th>\n",
       "      <th>U(s)</th>\n",
       "      <th>error</th>\n",
       "      <th>alpha</th>\n",
       "      <th>errex</th>\n",
       "      <th>tcpu</th>\n",
       "    </tr>\n",
       "  </thead>\n",
       "  <tbody>\n",
       "    <tr>\n",
       "      <th>0</th>\n",
       "      <td>10</td>\n",
       "      <td>10</td>\n",
       "      <td>14.353451</td>\n",
       "      <td>0.000000</td>\n",
       "      <td>0.000000</td>\n",
       "      <td>0.000000</td>\n",
       "      <td>0.000999</td>\n",
       "    </tr>\n",
       "    <tr>\n",
       "      <th>1</th>\n",
       "      <td>20</td>\n",
       "      <td>20</td>\n",
       "      <td>13.578892</td>\n",
       "      <td>0.774559</td>\n",
       "      <td>1.778634</td>\n",
       "      <td>0.305229</td>\n",
       "      <td>0.001005</td>\n",
       "    </tr>\n",
       "    <tr>\n",
       "      <th>2</th>\n",
       "      <td>40</td>\n",
       "      <td>40</td>\n",
       "      <td>13.353140</td>\n",
       "      <td>0.225752</td>\n",
       "      <td>1.931188</td>\n",
       "      <td>0.079477</td>\n",
       "      <td>0.001996</td>\n",
       "    </tr>\n",
       "    <tr>\n",
       "      <th>3</th>\n",
       "      <td>80</td>\n",
       "      <td>80</td>\n",
       "      <td>13.293944</td>\n",
       "      <td>0.059195</td>\n",
       "      <td>1.965551</td>\n",
       "      <td>0.020281</td>\n",
       "      <td>0.004521</td>\n",
       "    </tr>\n",
       "    <tr>\n",
       "      <th>4</th>\n",
       "      <td>160</td>\n",
       "      <td>160</td>\n",
       "      <td>13.278788</td>\n",
       "      <td>0.015156</td>\n",
       "      <td>1.981984</td>\n",
       "      <td>0.005125</td>\n",
       "      <td>0.036660</td>\n",
       "    </tr>\n",
       "    <tr>\n",
       "      <th>5</th>\n",
       "      <td>320</td>\n",
       "      <td>320</td>\n",
       "      <td>13.274951</td>\n",
       "      <td>0.003837</td>\n",
       "      <td>NaN</td>\n",
       "      <td>0.001288</td>\n",
       "      <td>0.463060</td>\n",
       "    </tr>\n",
       "  </tbody>\n",
       "</table>\n",
       "</div>"
      ],
      "text/plain": [
       "     I    N       U(s)     error     alpha     errex      tcpu\n",
       "0   10   10  14.353451  0.000000  0.000000  0.000000  0.000999\n",
       "1   20   20  13.578892  0.774559  1.778634  0.305229  0.001005\n",
       "2   40   40  13.353140  0.225752  1.931188  0.079477  0.001996\n",
       "3   80   80  13.293944  0.059195  1.965551  0.020281  0.004521\n",
       "4  160  160  13.278788  0.015156  1.981984  0.005125  0.036660\n",
       "5  320  320  13.274951  0.003837       NaN  0.001288  0.463060"
      ]
     },
     "execution_count": 29,
     "metadata": {},
     "output_type": "execute_result"
    }
   ],
   "source": [
    "########   N = I\n",
    "Sval = 80\n",
    "valeurs_I = [10, 20, 40,80,160,320]\n",
    "valeurs_N =  valeurs_I\n",
    "convergence_table(Sval,CN_simulation,valeurs_I,valeurs_N,\"CN\")"
   ]
  },
  {
   "cell_type": "code",
   "execution_count": 30,
   "id": "44da3977",
   "metadata": {},
   "outputs": [
    {
     "data": {
      "text/html": [
       "<div>\n",
       "<style scoped>\n",
       "    .dataframe tbody tr th:only-of-type {\n",
       "        vertical-align: middle;\n",
       "    }\n",
       "\n",
       "    .dataframe tbody tr th {\n",
       "        vertical-align: top;\n",
       "    }\n",
       "\n",
       "    .dataframe thead th {\n",
       "        text-align: right;\n",
       "    }\n",
       "</style>\n",
       "<table border=\"1\" class=\"dataframe\">\n",
       "  <thead>\n",
       "    <tr style=\"text-align: right;\">\n",
       "      <th></th>\n",
       "      <th>I</th>\n",
       "      <th>N</th>\n",
       "      <th>U(s)</th>\n",
       "      <th>error</th>\n",
       "      <th>alpha</th>\n",
       "      <th>errex</th>\n",
       "      <th>tcpu</th>\n",
       "    </tr>\n",
       "  </thead>\n",
       "  <tbody>\n",
       "    <tr>\n",
       "      <th>0</th>\n",
       "      <td>10</td>\n",
       "      <td>1</td>\n",
       "      <td>14.230461</td>\n",
       "      <td>0.000000</td>\n",
       "      <td>0.000000</td>\n",
       "      <td>0.000000</td>\n",
       "      <td>0.000000</td>\n",
       "    </tr>\n",
       "    <tr>\n",
       "      <th>1</th>\n",
       "      <td>20</td>\n",
       "      <td>2</td>\n",
       "      <td>13.506181</td>\n",
       "      <td>0.724281</td>\n",
       "      <td>2.079206</td>\n",
       "      <td>0.232518</td>\n",
       "      <td>0.001183</td>\n",
       "    </tr>\n",
       "    <tr>\n",
       "      <th>2</th>\n",
       "      <td>40</td>\n",
       "      <td>4</td>\n",
       "      <td>13.334783</td>\n",
       "      <td>0.171397</td>\n",
       "      <td>1.898109</td>\n",
       "      <td>0.061120</td>\n",
       "      <td>0.000522</td>\n",
       "    </tr>\n",
       "    <tr>\n",
       "      <th>3</th>\n",
       "      <td>80</td>\n",
       "      <td>8</td>\n",
       "      <td>13.288798</td>\n",
       "      <td>0.045985</td>\n",
       "      <td>2.024001</td>\n",
       "      <td>0.015135</td>\n",
       "      <td>0.001508</td>\n",
       "    </tr>\n",
       "    <tr>\n",
       "      <th>4</th>\n",
       "      <td>160</td>\n",
       "      <td>16</td>\n",
       "      <td>13.277492</td>\n",
       "      <td>0.011307</td>\n",
       "      <td>1.980378</td>\n",
       "      <td>0.003829</td>\n",
       "      <td>0.003994</td>\n",
       "    </tr>\n",
       "  </tbody>\n",
       "</table>\n",
       "</div>"
      ],
      "text/plain": [
       "     I   N       U(s)     error     alpha     errex      tcpu\n",
       "0   10   1  14.230461  0.000000  0.000000  0.000000  0.000000\n",
       "1   20   2  13.506181  0.724281  2.079206  0.232518  0.001183\n",
       "2   40   4  13.334783  0.171397  1.898109  0.061120  0.000522\n",
       "3   80   8  13.288798  0.045985  2.024001  0.015135  0.001508\n",
       "4  160  16  13.277492  0.011307  1.980378  0.003829  0.003994"
      ]
     },
     "execution_count": 30,
     "metadata": {},
     "output_type": "execute_result"
    }
   ],
   "source": [
    "######  N = I / 10\n",
    "valeurs_N = [int(x/10) for x in valeurs_I]\n",
    "convergence_table(Sval,CN_simulation,valeurs_I,valeurs_N,\"CN\")[:5]"
   ]
  },
  {
   "cell_type": "markdown",
   "id": "6eca2db0",
   "metadata": {},
   "source": [
    "## Complement . 1 \"Black & Scholes Formula\""
   ]
  },
  {
   "cell_type": "markdown",
   "id": "b8d0a005",
   "metadata": {},
   "source": [
    "##### Section already covered in previous parts, especially in the calculation of the exact error 'errex' for different methods and the creation of various tables. The program for the Black & Scholes formula for the put option is available  is available at the beginning of section \"e/ Numerical Order of the Scheme\", and the tables requested for EI and CN have already been completed in previous questions"
   ]
  },
  {
   "cell_type": "markdown",
   "id": "3200d811",
   "metadata": {},
   "source": [
    "## Complement . 2 \"Improved efficiency using sparse matrices\""
   ]
  },
  {
   "cell_type": "code",
   "execution_count": 31,
   "id": "499967ca",
   "metadata": {},
   "outputs": [],
   "source": [
    "from scipy.sparse import csr_matrix as sparse\n",
    "from scipy.sparse.linalg import spsolve\n",
    "from scipy.sparse import diags\n",
    "\n",
    "def create_sparse_matrix(I, alpha, beta, r):\n",
    "    # Diagonale principale\n",
    "    diagonal = 2 * alpha + r\n",
    "    diagonal[-1] += r  # Ajustement pour le dernier élément de la diagonale principale\n",
    "\n",
    "    # Sous-diagonale (éléments sous la diagonale principale)\n",
    "    sub_diagonal = -alpha[1:] + beta[1:]\n",
    "\n",
    "    # Sur-diagonale (éléments au-dessus de la diagonale principale)\n",
    "    sup_diagonal = -alpha[:-1] - beta[:-1]\n",
    "\n",
    "    # Création de la matrice creuse\n",
    "    diagonals = [sub_diagonal, diagonal, sup_diagonal]\n",
    "    A_sparse = diags(diagonals, offsets=[-1, 0, 1], shape=(I, I), format='csr')\n",
    "    return A_sparse"
   ]
  },
  {
   "cell_type": "code",
   "execution_count": 32,
   "id": "1c214aff",
   "metadata": {},
   "outputs": [],
   "source": [
    "def scheme_simulation_sparse(N, I, Method , afficher=True):\n",
    "    if afficher:\n",
    "        print('N=%3i' % N, 'I=%3i' % I, 'SCHEME=%s' % Method)\n",
    "    phi_s = simulation(N, I)[\"phi_s\"]\n",
    "    dt = simulation(N, I)[\"dt\"]\n",
    "    alpha = simulation(N, I)[\"alpha\"]\n",
    "    beta = simulation(N, I)[\"beta\"]\n",
    "    A = create_sparse_matrix(I, alpha, beta, r)\n",
    "    q = simulation(N, I)[\"q\"]\n",
    "    U = phi_s\n",
    "    if Method == \"EE\":\n",
    "        for n in range(N):\n",
    "            t = n * dt\n",
    "            U = U - dt * (A @ U + q(t))  \n",
    "    elif Method == \"IE\":\n",
    "        for n in range(N):\n",
    "            t = n * dt\n",
    "            U = lng.solve(np.eye(I) + (dt/2) * A , U - (dt/2) * ( A@U + q(t) + q(t+dt))).reshape(-1,1)\n",
    "    elif Method == \"CN\":\n",
    "        for n in range(N):\n",
    "            t = n * dt\n",
    "            U = lng.solve(np.eye(I) + (dt/2) * A , U - (dt/2) * ( A@U + q(t) + q(t+dt))).reshape(-1,1)\n",
    "    return U"
   ]
  },
  {
   "cell_type": "markdown",
   "id": "81d1068d",
   "metadata": {},
   "source": [
    "### Comparison of the execution speed between the two methods of constructing matrix A"
   ]
  },
  {
   "cell_type": "markdown",
   "id": "d4de8f27",
   "metadata": {},
   "source": [
    "##### EE"
   ]
  },
  {
   "cell_type": "code",
   "execution_count": 33,
   "id": "f92e0fe1",
   "metadata": {},
   "outputs": [
    {
     "data": {
      "text/html": [
       "<div>\n",
       "<style scoped>\n",
       "    .dataframe tbody tr th:only-of-type {\n",
       "        vertical-align: middle;\n",
       "    }\n",
       "\n",
       "    .dataframe tbody tr th {\n",
       "        vertical-align: top;\n",
       "    }\n",
       "\n",
       "    .dataframe thead th {\n",
       "        text-align: right;\n",
       "    }\n",
       "</style>\n",
       "<table border=\"1\" class=\"dataframe\">\n",
       "  <thead>\n",
       "    <tr style=\"text-align: right;\">\n",
       "      <th></th>\n",
       "      <th>I</th>\n",
       "      <th>N</th>\n",
       "      <th>U(s)</th>\n",
       "      <th>error</th>\n",
       "      <th>alpha</th>\n",
       "      <th>errex</th>\n",
       "      <th>tcpu</th>\n",
       "    </tr>\n",
       "  </thead>\n",
       "  <tbody>\n",
       "    <tr>\n",
       "      <th>0</th>\n",
       "      <td>400</td>\n",
       "      <td>16000</td>\n",
       "      <td>13.274408</td>\n",
       "      <td>0.000000</td>\n",
       "      <td>0.0</td>\n",
       "      <td>0.000000</td>\n",
       "      <td>0.185751</td>\n",
       "    </tr>\n",
       "    <tr>\n",
       "      <th>1</th>\n",
       "      <td>800</td>\n",
       "      <td>64000</td>\n",
       "      <td>13.273850</td>\n",
       "      <td>0.000558</td>\n",
       "      <td>NaN</td>\n",
       "      <td>0.000187</td>\n",
       "      <td>0.784576</td>\n",
       "    </tr>\n",
       "  </tbody>\n",
       "</table>\n",
       "</div>"
      ],
      "text/plain": [
       "     I      N       U(s)     error  alpha     errex      tcpu\n",
       "0  400  16000  13.274408  0.000000    0.0  0.000000  0.185751\n",
       "1  800  64000  13.273850  0.000558    NaN  0.000187  0.784576"
      ]
     },
     "execution_count": 33,
     "metadata": {},
     "output_type": "execute_result"
    }
   ],
   "source": [
    "valeurs_I=[400,800]\n",
    "valeurs_N = [int((x**2) / 10) for x in valeurs_I]  \n",
    "df_convergence = convergence_table(Sval, scheme_simulation_sparse, valeurs_I, valeurs_N, \"EE\")\n",
    "df_convergence[:5]"
   ]
  },
  {
   "cell_type": "code",
   "execution_count": 34,
   "id": "1b473cb5",
   "metadata": {},
   "outputs": [
    {
     "data": {
      "text/html": [
       "<div>\n",
       "<style scoped>\n",
       "    .dataframe tbody tr th:only-of-type {\n",
       "        vertical-align: middle;\n",
       "    }\n",
       "\n",
       "    .dataframe tbody tr th {\n",
       "        vertical-align: top;\n",
       "    }\n",
       "\n",
       "    .dataframe thead th {\n",
       "        text-align: right;\n",
       "    }\n",
       "</style>\n",
       "<table border=\"1\" class=\"dataframe\">\n",
       "  <thead>\n",
       "    <tr style=\"text-align: right;\">\n",
       "      <th></th>\n",
       "      <th>I</th>\n",
       "      <th>N</th>\n",
       "      <th>U(s)</th>\n",
       "      <th>error</th>\n",
       "      <th>alpha</th>\n",
       "      <th>errex</th>\n",
       "      <th>tcpu</th>\n",
       "    </tr>\n",
       "  </thead>\n",
       "  <tbody>\n",
       "    <tr>\n",
       "      <th>0</th>\n",
       "      <td>400</td>\n",
       "      <td>16000</td>\n",
       "      <td>13.274408</td>\n",
       "      <td>0.000000</td>\n",
       "      <td>0.0</td>\n",
       "      <td>0.000000</td>\n",
       "      <td>0.247588</td>\n",
       "    </tr>\n",
       "    <tr>\n",
       "      <th>1</th>\n",
       "      <td>800</td>\n",
       "      <td>64000</td>\n",
       "      <td>13.273850</td>\n",
       "      <td>0.000558</td>\n",
       "      <td>NaN</td>\n",
       "      <td>0.000187</td>\n",
       "      <td>3.321528</td>\n",
       "    </tr>\n",
       "  </tbody>\n",
       "</table>\n",
       "</div>"
      ],
      "text/plain": [
       "     I      N       U(s)     error  alpha     errex      tcpu\n",
       "0  400  16000  13.274408  0.000000    0.0  0.000000  0.247588\n",
       "1  800  64000  13.273850  0.000558    NaN  0.000187  3.321528"
      ]
     },
     "execution_count": 34,
     "metadata": {},
     "output_type": "execute_result"
    }
   ],
   "source": [
    "######  N = I / 10\n",
    "valeurs_N = [int((x**2)/10) for x in valeurs_I]\n",
    "convergence_table(Sval,EE_simulation,valeurs_I,valeurs_N,\"EE\")[:5]"
   ]
  },
  {
   "cell_type": "markdown",
   "id": "a4103941",
   "metadata": {},
   "source": [
    "##### IE"
   ]
  },
  {
   "cell_type": "code",
   "execution_count": 35,
   "id": "54ed2b48",
   "metadata": {},
   "outputs": [
    {
     "data": {
      "text/html": [
       "<div>\n",
       "<style scoped>\n",
       "    .dataframe tbody tr th:only-of-type {\n",
       "        vertical-align: middle;\n",
       "    }\n",
       "\n",
       "    .dataframe tbody tr th {\n",
       "        vertical-align: top;\n",
       "    }\n",
       "\n",
       "    .dataframe thead th {\n",
       "        text-align: right;\n",
       "    }\n",
       "</style>\n",
       "<table border=\"1\" class=\"dataframe\">\n",
       "  <thead>\n",
       "    <tr style=\"text-align: right;\">\n",
       "      <th></th>\n",
       "      <th>I</th>\n",
       "      <th>N</th>\n",
       "      <th>U(s)</th>\n",
       "      <th>error</th>\n",
       "      <th>alpha</th>\n",
       "      <th>errex</th>\n",
       "      <th>tcpu</th>\n",
       "    </tr>\n",
       "  </thead>\n",
       "  <tbody>\n",
       "    <tr>\n",
       "      <th>0</th>\n",
       "      <td>400</td>\n",
       "      <td>40</td>\n",
       "      <td>13.274281</td>\n",
       "      <td>0.000000</td>\n",
       "      <td>0.000000</td>\n",
       "      <td>0.000000</td>\n",
       "      <td>0.097134</td>\n",
       "    </tr>\n",
       "    <tr>\n",
       "      <th>1</th>\n",
       "      <td>800</td>\n",
       "      <td>80</td>\n",
       "      <td>13.273818</td>\n",
       "      <td>0.000463</td>\n",
       "      <td>1.995187</td>\n",
       "      <td>0.000155</td>\n",
       "      <td>0.705105</td>\n",
       "    </tr>\n",
       "    <tr>\n",
       "      <th>2</th>\n",
       "      <td>1600</td>\n",
       "      <td>160</td>\n",
       "      <td>13.273702</td>\n",
       "      <td>0.000116</td>\n",
       "      <td>NaN</td>\n",
       "      <td>0.000039</td>\n",
       "      <td>6.724411</td>\n",
       "    </tr>\n",
       "  </tbody>\n",
       "</table>\n",
       "</div>"
      ],
      "text/plain": [
       "      I    N       U(s)     error     alpha     errex      tcpu\n",
       "0   400   40  13.274281  0.000000  0.000000  0.000000  0.097134\n",
       "1   800   80  13.273818  0.000463  1.995187  0.000155  0.705105\n",
       "2  1600  160  13.273702  0.000116       NaN  0.000039  6.724411"
      ]
     },
     "execution_count": 35,
     "metadata": {},
     "output_type": "execute_result"
    }
   ],
   "source": [
    "valeurs_I=[400,800,1600]\n",
    "valeurs_N = [int(x / 10) for x in valeurs_I]  \n",
    "df_convergence = convergence_table(Sval, scheme_simulation_sparse, valeurs_I, valeurs_N, \"IE\")\n",
    "df_convergence[:5]"
   ]
  },
  {
   "cell_type": "code",
   "execution_count": 36,
   "id": "6b9b34ef",
   "metadata": {},
   "outputs": [
    {
     "data": {
      "text/html": [
       "<div>\n",
       "<style scoped>\n",
       "    .dataframe tbody tr th:only-of-type {\n",
       "        vertical-align: middle;\n",
       "    }\n",
       "\n",
       "    .dataframe tbody tr th {\n",
       "        vertical-align: top;\n",
       "    }\n",
       "\n",
       "    .dataframe thead th {\n",
       "        text-align: right;\n",
       "    }\n",
       "</style>\n",
       "<table border=\"1\" class=\"dataframe\">\n",
       "  <thead>\n",
       "    <tr style=\"text-align: right;\">\n",
       "      <th></th>\n",
       "      <th>I</th>\n",
       "      <th>N</th>\n",
       "      <th>U(s)</th>\n",
       "      <th>error</th>\n",
       "      <th>alpha</th>\n",
       "      <th>errex</th>\n",
       "      <th>tcpu</th>\n",
       "    </tr>\n",
       "  </thead>\n",
       "  <tbody>\n",
       "    <tr>\n",
       "      <th>0</th>\n",
       "      <td>400</td>\n",
       "      <td>40</td>\n",
       "      <td>13.307505</td>\n",
       "      <td>0.000000</td>\n",
       "      <td>0.00000</td>\n",
       "      <td>0.000000</td>\n",
       "      <td>0.100353</td>\n",
       "    </tr>\n",
       "    <tr>\n",
       "      <th>1</th>\n",
       "      <td>800</td>\n",
       "      <td>80</td>\n",
       "      <td>13.290397</td>\n",
       "      <td>0.017108</td>\n",
       "      <td>1.02379</td>\n",
       "      <td>0.016734</td>\n",
       "      <td>0.821222</td>\n",
       "    </tr>\n",
       "    <tr>\n",
       "      <th>2</th>\n",
       "      <td>1600</td>\n",
       "      <td>160</td>\n",
       "      <td>13.281982</td>\n",
       "      <td>0.008414</td>\n",
       "      <td>NaN</td>\n",
       "      <td>0.008319</td>\n",
       "      <td>7.790888</td>\n",
       "    </tr>\n",
       "  </tbody>\n",
       "</table>\n",
       "</div>"
      ],
      "text/plain": [
       "      I    N       U(s)     error    alpha     errex      tcpu\n",
       "0   400   40  13.307505  0.000000  0.00000  0.000000  0.100353\n",
       "1   800   80  13.290397  0.017108  1.02379  0.016734  0.821222\n",
       "2  1600  160  13.281982  0.008414      NaN  0.008319  7.790888"
      ]
     },
     "execution_count": 36,
     "metadata": {},
     "output_type": "execute_result"
    }
   ],
   "source": [
    "######  N = I / 10\n",
    "valeurs_N = [int(x/10) for x in valeurs_I]\n",
    "convergence_table(Sval,IE_simulation,valeurs_I,valeurs_N,\"IE\")[:5]"
   ]
  },
  {
   "cell_type": "markdown",
   "id": "3534bdae",
   "metadata": {},
   "source": [
    "##### CN"
   ]
  },
  {
   "cell_type": "code",
   "execution_count": 37,
   "id": "70fcbc3f",
   "metadata": {},
   "outputs": [
    {
     "data": {
      "text/html": [
       "<div>\n",
       "<style scoped>\n",
       "    .dataframe tbody tr th:only-of-type {\n",
       "        vertical-align: middle;\n",
       "    }\n",
       "\n",
       "    .dataframe tbody tr th {\n",
       "        vertical-align: top;\n",
       "    }\n",
       "\n",
       "    .dataframe thead th {\n",
       "        text-align: right;\n",
       "    }\n",
       "</style>\n",
       "<table border=\"1\" class=\"dataframe\">\n",
       "  <thead>\n",
       "    <tr style=\"text-align: right;\">\n",
       "      <th></th>\n",
       "      <th>I</th>\n",
       "      <th>N</th>\n",
       "      <th>U(s)</th>\n",
       "      <th>error</th>\n",
       "      <th>alpha</th>\n",
       "      <th>errex</th>\n",
       "      <th>tcpu</th>\n",
       "    </tr>\n",
       "  </thead>\n",
       "  <tbody>\n",
       "    <tr>\n",
       "      <th>0</th>\n",
       "      <td>400</td>\n",
       "      <td>40</td>\n",
       "      <td>13.274281</td>\n",
       "      <td>0.000000</td>\n",
       "      <td>0.000000</td>\n",
       "      <td>0.000000</td>\n",
       "      <td>0.086414</td>\n",
       "    </tr>\n",
       "    <tr>\n",
       "      <th>1</th>\n",
       "      <td>800</td>\n",
       "      <td>80</td>\n",
       "      <td>13.273818</td>\n",
       "      <td>0.000463</td>\n",
       "      <td>1.995187</td>\n",
       "      <td>0.000155</td>\n",
       "      <td>0.706000</td>\n",
       "    </tr>\n",
       "    <tr>\n",
       "      <th>2</th>\n",
       "      <td>1600</td>\n",
       "      <td>160</td>\n",
       "      <td>13.273702</td>\n",
       "      <td>0.000116</td>\n",
       "      <td>NaN</td>\n",
       "      <td>0.000039</td>\n",
       "      <td>6.886954</td>\n",
       "    </tr>\n",
       "  </tbody>\n",
       "</table>\n",
       "</div>"
      ],
      "text/plain": [
       "      I    N       U(s)     error     alpha     errex      tcpu\n",
       "0   400   40  13.274281  0.000000  0.000000  0.000000  0.086414\n",
       "1   800   80  13.273818  0.000463  1.995187  0.000155  0.706000\n",
       "2  1600  160  13.273702  0.000116       NaN  0.000039  6.886954"
      ]
     },
     "execution_count": 37,
     "metadata": {},
     "output_type": "execute_result"
    }
   ],
   "source": [
    "valeurs_N = [int(x / 10) for x in valeurs_I]  \n",
    "df_convergence = convergence_table(Sval, scheme_simulation_sparse, valeurs_I, valeurs_N, \"CN\")\n",
    "df_convergence[:5]"
   ]
  },
  {
   "cell_type": "code",
   "execution_count": 38,
   "id": "c12be36c",
   "metadata": {},
   "outputs": [
    {
     "data": {
      "text/html": [
       "<div>\n",
       "<style scoped>\n",
       "    .dataframe tbody tr th:only-of-type {\n",
       "        vertical-align: middle;\n",
       "    }\n",
       "\n",
       "    .dataframe tbody tr th {\n",
       "        vertical-align: top;\n",
       "    }\n",
       "\n",
       "    .dataframe thead th {\n",
       "        text-align: right;\n",
       "    }\n",
       "</style>\n",
       "<table border=\"1\" class=\"dataframe\">\n",
       "  <thead>\n",
       "    <tr style=\"text-align: right;\">\n",
       "      <th></th>\n",
       "      <th>I</th>\n",
       "      <th>N</th>\n",
       "      <th>U(s)</th>\n",
       "      <th>error</th>\n",
       "      <th>alpha</th>\n",
       "      <th>errex</th>\n",
       "      <th>tcpu</th>\n",
       "    </tr>\n",
       "  </thead>\n",
       "  <tbody>\n",
       "    <tr>\n",
       "      <th>0</th>\n",
       "      <td>400</td>\n",
       "      <td>40</td>\n",
       "      <td>13.274281</td>\n",
       "      <td>0.000000</td>\n",
       "      <td>0.000000</td>\n",
       "      <td>0.000000</td>\n",
       "      <td>0.097308</td>\n",
       "    </tr>\n",
       "    <tr>\n",
       "      <th>1</th>\n",
       "      <td>800</td>\n",
       "      <td>80</td>\n",
       "      <td>13.273818</td>\n",
       "      <td>0.000463</td>\n",
       "      <td>1.995187</td>\n",
       "      <td>0.000155</td>\n",
       "      <td>0.826718</td>\n",
       "    </tr>\n",
       "    <tr>\n",
       "      <th>2</th>\n",
       "      <td>1600</td>\n",
       "      <td>160</td>\n",
       "      <td>13.273702</td>\n",
       "      <td>0.000116</td>\n",
       "      <td>NaN</td>\n",
       "      <td>0.000039</td>\n",
       "      <td>8.010857</td>\n",
       "    </tr>\n",
       "  </tbody>\n",
       "</table>\n",
       "</div>"
      ],
      "text/plain": [
       "      I    N       U(s)     error     alpha     errex      tcpu\n",
       "0   400   40  13.274281  0.000000  0.000000  0.000000  0.097308\n",
       "1   800   80  13.273818  0.000463  1.995187  0.000155  0.826718\n",
       "2  1600  160  13.273702  0.000116       NaN  0.000039  8.010857"
      ]
     },
     "execution_count": 38,
     "metadata": {},
     "output_type": "execute_result"
    }
   ],
   "source": [
    "######  N = I / 10\n",
    "valeurs_N = [int(x/10) for x in valeurs_I]\n",
    "convergence_table(Sval,CN_simulation,valeurs_I,valeurs_N,\"CN\")[:5]"
   ]
  },
  {
   "cell_type": "markdown",
   "id": "6f110207",
   "metadata": {},
   "source": [
    "#### The sparse matrix approach leads to faster execution times for large N and I, as sparse matrices are more efficient both in terms of memory usage and computation time for matrices with a lot of zero elements."
   ]
  },
  {
   "cell_type": "markdown",
   "id": "3b5e1415",
   "metadata": {},
   "source": [
    "## Complement. 3 \"Call Option\""
   ]
  },
  {
   "cell_type": "markdown",
   "id": "0d975df5",
   "metadata": {},
   "source": [
    "### a/b/  PDE for the call option, using the boundary conditions"
   ]
  },
  {
   "cell_type": "markdown",
   "id": "d88c7930",
   "metadata": {},
   "source": [
    "A PDE for the Call Option, using these boundary condition:\n",
    "\n",
    "\\begin{equation} \n",
    "\\begin{cases} \n",
    "& \\frac{\\partial V}{\\partial t} - rS \\frac{\\partial V}{\\partial S} - \\frac{1}{2} \\sigma^2 S^2 \\frac{\\partial^2 V}{\\partial S^2} + rV = 0, \\quad \\text{for } s \\in (S_{\\text{min}}, S_{\\text{max}}), \\ t \\in (0, T) \\\\\n",
    "& V(t, S_{\\text{min}}) = V_l(t) = 0, \\quad \\text{for } t \\in (0, T) \\\\\n",
    "& V(t, S_{\\text{max}}) = V_r(t) = S_{\\text{max}} - K e^{-rt}, \\quad \\text{for } t \\in (0, T) \\\\\n",
    "& V(0, s) = \\phi(s) := \\max(s - K, 0), \\quad \\text{for } s \\in (S_{\\text{min}}, S_{\\text{max}})\n",
    "\\end{cases}\n",
    "\\end{equation}"
   ]
  },
  {
   "cell_type": "markdown",
   "id": "31b2941f",
   "metadata": {},
   "source": [
    "The Implicit Euler Scheme (\"IE\" SCHEME), with centered difference approximation for the first spacial derivative, is :\n",
    "\n",
    "\\begin{equation} \n",
    "\\begin{cases} \n",
    "& \\frac{U_j^{n+1} - U_j^n}{\\Delta t} + \\frac{\\sigma^2}{2} s_j^2 \\frac{-U_{j-1}^{n+1} + 2U_j^{n+1} - U_{j+1}^{n+1}}{h^2} - r s_j \\frac{U_{j+1}^{n+1} - U_{j-1}^{n+1}}{2h} + r U_j^{n+1} = 0, & n = 0  , \\ldots, N-1, \\ j = 1, \\ldots, I \\\\\n",
    "& U_0^{n+1} = V_l(t_{n+1}) = 0, & n = 0  , \\ldots, N-1 \\\\\n",
    "& U_{I+1}^{n+1} = V_r(t_{n+1}) = S_{\\text{max}} - K e^{-r t_{n+1}}  , & n = 0  , \\ldots, N-1 \\\\\n",
    "& U_j^0 = (s_j - K)^+, & j = 1, \\ldots, I\n",
    "\\end{cases}\n",
    "\\end{equation}\n",
    "\n",
    "The scheme, in vector form, can be written (as in the previous sections) : \n",
    "\n",
    "\\begin{align} \n",
    "& \\frac{U^{n+1} - U^n}{\\Delta t} + AU^{n+1} + q(t_{n+1}) = 0, & n = 0  , \\ldots, N-1 \\\\\n",
    "&  with : U^0 = (\\phi(s_i))_{1 \\leq i \\leq I})\n",
    "\\end{align}"
   ]
  },
  {
   "cell_type": "markdown",
   "id": "d4dc9cb2",
   "metadata": {},
   "source": [
    "### b/ Program and test the IE scheme for the call option"
   ]
  },
  {
   "cell_type": "code",
   "execution_count": 39,
   "id": "7a9f9469",
   "metadata": {},
   "outputs": [],
   "source": [
    "def simulation_Call_IE(N, I, SCHEME='IE', afficher=True):\n",
    "    if afficher:\n",
    "        print('N=%3i' % N, 'I=%3i' % I, 'SCHEME=%s' % SCHEME)   \n",
    "    results = {}  \n",
    "    \n",
    "    h = (Smax - Smin) / (I + 1)\n",
    "    s = Smin + h * np.arange(1, I + 1)\n",
    "    dt = T / N\n",
    "    alpha = ((sigma ** 2) / (2 * (h ** 2))) * (s**2)\n",
    "    beta = (r / (2 * h)) * s\n",
    "\n",
    "    def u0(s):\n",
    "        return max(s - K, 0)\n",
    "\n",
    "    def uleft(t):\n",
    "        return  0\n",
    "\n",
    "    def uright(t):\n",
    "        return Smax - K * np.exp(-r * t)\n",
    "\n",
    "    A = np.zeros((I, I))\n",
    "    A[I-1,I-1]= 2 * alpha[I-1] + r\n",
    "    for i in range(I - 1):\n",
    "        A[i][i] = 2 * alpha[i] + r\n",
    "        A[i + 1][i] = -alpha[i + 1] + beta[i + 1]\n",
    "        A[i][i + 1] = -alpha[i] - beta[i]\n",
    "\n",
    "    def q(t):\n",
    "        y = np.zeros((I, 1))\n",
    "        y[0] = (- alpha[0] + beta[0]) * uleft(t)\n",
    "        y[I - 1] = (- alpha[I - 1] - beta[I - 1]) * uright(t)\n",
    "        return y\n",
    "\n",
    "    phi_s = np.maximum(s - K, 0).reshape(I, 1)\n",
    "    U = phi_s\n",
    "    for n in range(N):\n",
    "        t = n * dt\n",
    "        U = lng.solve(np.eye(I) + dt * A , U - dt * q(t + dt)).reshape(-1,1)\n",
    "\n",
    "    results['s'] = s\n",
    "    results['h'] = h\n",
    "    results['dt'] = dt\n",
    "    results['A'] = A\n",
    "    results['U'] = U\n",
    "    results['q'] = q\n",
    "    results['phi_s'] = phi_s\n",
    "    results['alpha'] = alpha\n",
    "    results['beta'] = beta\n",
    "\n",
    "    return results"
   ]
  },
  {
   "cell_type": "code",
   "execution_count": 40,
   "id": "b371c2a5",
   "metadata": {},
   "outputs": [
    {
     "name": "stdout",
     "output_type": "stream",
     "text": [
      "N= 20 I= 20 SCHEME=IE\n"
     ]
    },
    {
     "data": {
      "image/png": "[encoded data removed]",
      "text/plain": [
       "<Figure size 576x432 with 1 Axes>"
      ]
     },
     "metadata": {
      "needs_background": "light"
     },
     "output_type": "display_data"
    }
   ],
   "source": [
    "simulation = simulation_Call_IE(20,20)\n",
    "s = simulation['s']\n",
    "U = simulation[\"U\"]\n",
    "phi_s = simulation['phi_s']\n",
    "plot_payoff_and_scheme(s, U, K)"
   ]
  },
  {
   "cell_type": "code",
   "execution_count": 41,
   "id": "379d6770",
   "metadata": {},
   "outputs": [
    {
     "name": "stdout",
     "output_type": "stream",
     "text": [
      "For N=10 & I=10: Stability - True, Positivity - True\n",
      "For N=10 & I=20: Stability - True, Positivity - True\n",
      "For N=10 & I=50: Stability - True, Positivity - True\n",
      "For N=10 & I=100: Stability - True, Positivity - True\n"
     ]
    },
    {
     "data": {
      "image/png": "[encoded data removed]",
      "text/plain": [
       "<Figure size 432x288 with 1 Axes>"
      ]
     },
     "metadata": {
      "needs_background": "light"
     },
     "output_type": "display_data"
    }
   ],
   "source": [
    "N = 10\n",
    "for I in [10, 20, 50, 100]:\n",
    "    is_stable, is_positive = check_stability_and_positivity(U)\n",
    "    print(f\"For N=10 & I={I}: Stability - {is_stable}, Positivity - {is_positive}\")\n",
    "    plt.plot(s, U.flatten(), label=f'N=10 & I={I}')\n",
    "plt.title('Implicit Euler Forward Scheme for Call Option')\n",
    "plt.xlabel('Stock Price')\n",
    "plt.ylabel('Option Value')\n",
    "plt.legend()\n",
    "plt.grid(True)\n",
    "plt.show()"
   ]
  },
  {
   "cell_type": "code",
   "execution_count": null,
   "id": "2be0ec25",
   "metadata": {},
   "outputs": [],
   "source": []
  }
 ],
 "metadata": {
  "kernelspec": {
   "display_name": "Python 3 (ipykernel)",
   "language": "python",
   "name": "python3"
  },
  "language_info": {
   "codemirror_mode": {
    "name": "ipython",
    "version": 3
   },
   "file_extension": ".py",
   "mimetype": "text/x-python",
   "name": "python",
   "nbconvert_exporter": "python",
   "pygments_lexer": "ipython3",
   "version": "3.9.7"
  }
 },
 "nbformat": 4,
 "nbformat_minor": 5
}
